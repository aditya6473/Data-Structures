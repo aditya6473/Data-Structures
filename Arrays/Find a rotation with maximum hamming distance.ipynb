{
 "cells": [
  {
   "cell_type": "code",
   "execution_count": 1,
   "metadata": {},
   "outputs": [
    {
     "name": "stdout",
     "output_type": "stream",
     "text": [
      "4\n"
     ]
    }
   ],
   "source": [
    "def maxHamming( arr , n ):\n",
    " \n",
    "    \n",
    "    brr = [0] * (2 * n + 1)\n",
    "    for i in range(n):\n",
    "        brr[i] = arr[i]\n",
    "    for i in range(n):\n",
    "        brr[n+i] = arr[i]\n",
    "     \n",
    "\n",
    "    maxHam = 0\n",
    "     \n",
    "\n",
    "    for i in range(1, n):\n",
    "        currHam = 0\n",
    "        k = 0\n",
    "        for j in range(i, i + n):\n",
    "            if brr[j] != arr[k]:\n",
    "                currHam += 1\n",
    "                k = k + 1\n",
    "         \n",
    "     \n",
    "        if currHam == n:\n",
    "            return n\n",
    "         \n",
    "        maxHam = max(maxHam, currHam)\n",
    "     \n",
    "    return maxHam\n",
    " \n",
    "\n",
    "arr = [2, 4, 6, 8]\n",
    "n = len(arr)\n",
    "print(maxHamming(arr, n))"
   ]
  },
  {
   "cell_type": "code",
   "execution_count": null,
   "metadata": {},
   "outputs": [],
   "source": []
  }
 ],
 "metadata": {
  "kernelspec": {
   "display_name": "Python 3",
   "language": "python",
   "name": "python3"
  },
  "language_info": {
   "codemirror_mode": {
    "name": "ipython",
    "version": 3
   },
   "file_extension": ".py",
   "mimetype": "text/x-python",
   "name": "python",
   "nbconvert_exporter": "python",
   "pygments_lexer": "ipython3",
   "version": "3.7.6"
  }
 },
 "nbformat": 4,
 "nbformat_minor": 4
}
