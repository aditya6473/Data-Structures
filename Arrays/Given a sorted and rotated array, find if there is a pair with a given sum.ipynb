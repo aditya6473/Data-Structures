{
 "cells": [
  {
   "cell_type": "code",
   "execution_count": 1,
   "metadata": {},
   "outputs": [
    {
     "name": "stdout",
     "output_type": "stream",
     "text": [
      "Array has two elements with sum 16\n"
     ]
    }
   ],
   "source": [
    "def pairInSortedRotated( arr, n, x ):\n",
    "     \n",
    "    for i in range(0, n - 1):\n",
    "        if (arr[i] > arr[i + 1]):\n",
    "            break;\n",
    "             \n",
    "        \n",
    "    l = (i + 1) % n\n",
    "    \n",
    "    r = i    \n",
    " \n",
    "\n",
    "    while (l != r):\n",
    "         \n",
    "      \n",
    "        if (arr[l] + arr[r] == x):\n",
    "            return True;\n",
    "             \n",
    "      \n",
    "        if (arr[l] + arr[r] < x):\n",
    "            l = (l + 1) % n;\n",
    "        else:\n",
    "             \n",
    "         \n",
    "            r = (n + r - 1) % n;\n",
    "     \n",
    "    return False;\n",
    " \n",
    " \n",
    "\n",
    "arr = [11, 15, 6, 8, 9, 10]\n",
    "sum = 16\n",
    "n = len(arr)\n",
    " \n",
    "if (pairInSortedRotated(arr, n, sum)):\n",
    "    print (\"Array has two elements with sum 16\")\n",
    "else:\n",
    "    print (\"Array doesn't have two elements with sum 16 \")"
   ]
  },
  {
   "cell_type": "code",
   "execution_count": null,
   "metadata": {},
   "outputs": [],
   "source": []
  }
 ],
 "metadata": {
  "kernelspec": {
   "display_name": "Python 3",
   "language": "python",
   "name": "python3"
  },
  "language_info": {
   "codemirror_mode": {
    "name": "ipython",
    "version": 3
   },
   "file_extension": ".py",
   "mimetype": "text/x-python",
   "name": "python",
   "nbconvert_exporter": "python",
   "pygments_lexer": "ipython3",
   "version": "3.7.6"
  }
 },
 "nbformat": 4,
 "nbformat_minor": 4
}
