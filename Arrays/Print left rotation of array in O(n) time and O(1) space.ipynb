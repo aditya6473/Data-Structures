{
 "cells": [
  {
   "cell_type": "code",
   "execution_count": 6,
   "metadata": {},
   "outputs": [
    {
     "name": "stdout",
     "output_type": "stream",
     "text": [
      "5 7 9 1 3 "
     ]
    }
   ],
   "source": [
    "from collections import deque\n",
    " \n",
    "\n",
    "def leftRotate(arr, k, n):\n",
    "     \n",
    "    \n",
    "    arr = deque(arr)\n",
    "     \n",
    "   \n",
    "    arr.rotate(-k)\n",
    "    arr = list(arr)\n",
    "     \n",
    "   \n",
    "    for i in range(n):\n",
    "        print(arr[i], end = \" \")\n",
    " \n",
    "\n",
    "if __name__ == '__main__':\n",
    "       \n",
    "    arr = [ 1, 3, 5, 7, 9 ]\n",
    "    n = len(arr)\n",
    "    k = 2\n",
    "   \n",
    "   \n",
    "    leftRotate(arr, k, n)"
   ]
  },
  {
   "cell_type": "code",
   "execution_count": null,
   "metadata": {},
   "outputs": [],
   "source": []
  }
 ],
 "metadata": {
  "kernelspec": {
   "display_name": "Python 3",
   "language": "python",
   "name": "python3"
  },
  "language_info": {
   "codemirror_mode": {
    "name": "ipython",
    "version": 3
   },
   "file_extension": ".py",
   "mimetype": "text/x-python",
   "name": "python",
   "nbconvert_exporter": "python",
   "pygments_lexer": "ipython3",
   "version": "3.7.6"
  }
 },
 "nbformat": 4,
 "nbformat_minor": 4
}
