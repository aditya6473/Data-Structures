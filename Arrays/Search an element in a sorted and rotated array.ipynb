{
 "cells": [
  {
   "cell_type": "code",
   "execution_count": 1,
   "metadata": {},
   "outputs": [
    {
     "name": "stdout",
     "output_type": "stream",
     "text": [
      "Index of the element is :  8\n"
     ]
    }
   ],
   "source": [
    "def pivotedBinarySearch(arr, n, key):\n",
    " \n",
    "    pivot = findPivot(arr, 0, n-1);\n",
    " \n",
    " \n",
    "    if pivot == -1:\n",
    "        return binarySearch(arr, 0, n-1, key);\n",
    " \n",
    " \n",
    "    if arr[pivot] == key:\n",
    "        return pivot\n",
    "    if arr[0] <= key:\n",
    "        return binarySearch(arr, 0, pivot-1, key);\n",
    "    return binarySearch(arr, pivot + 1, n-1, key);\n",
    " \n",
    " \n",
    "\n",
    "\n",
    "def findPivot(arr, low, high):\n",
    "     \n",
    "\n",
    "    if high < low:\n",
    "        return -1\n",
    "    if high == low:\n",
    "        return low\n",
    "     \n",
    "    mid = int((low + high)/2)\n",
    "     \n",
    "    if mid < high and arr[mid] > arr[mid + 1]:\n",
    "        return mid\n",
    "    if mid > low and arr[mid] < arr[mid - 1]:\n",
    "        return (mid-1)\n",
    "    if arr[low] >= arr[mid]:\n",
    "        return findPivot(arr, low, mid-1)\n",
    "    return findPivot(arr, mid + 1, high)\n",
    "\n",
    "def binarySearch(arr, low, high, key):\n",
    " \n",
    "    if high < low:\n",
    "        return -1\n",
    "         \n",
    "    # low + (high - low)/2;   \n",
    "    mid = int((low + high)/2)\n",
    "     \n",
    "    if key == arr[mid]:\n",
    "        return mid\n",
    "    if key > arr[mid]:\n",
    "        return binarySearch(arr, (mid + 1), high,\n",
    "                                            key);\n",
    "    return binarySearch(arr, low, (mid -1), key);\n",
    " \n",
    " \n",
    "\n",
    "\n",
    "arr1 = [5, 6, 7, 8, 9, 10, 1, 2, 3]\n",
    "n = len(arr1)\n",
    "key = 3\n",
    "print(\"Index of the element is : \",\n",
    "      pivotedBinarySearch(arr1, n, key))"
   ]
  },
  {
   "cell_type": "code",
   "execution_count": null,
   "metadata": {},
   "outputs": [],
   "source": []
  }
 ],
 "metadata": {
  "kernelspec": {
   "display_name": "Python 3",
   "language": "python",
   "name": "python3"
  },
  "language_info": {
   "codemirror_mode": {
    "name": "ipython",
    "version": 3
   },
   "file_extension": ".py",
   "mimetype": "text/x-python",
   "name": "python",
   "nbconvert_exporter": "python",
   "pygments_lexer": "ipython3",
   "version": "3.7.6"
  }
 },
 "nbformat": 4,
 "nbformat_minor": 4
}
