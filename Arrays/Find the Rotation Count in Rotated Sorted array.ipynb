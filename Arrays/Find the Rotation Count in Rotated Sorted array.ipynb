{
 "cells": [
  {
   "cell_type": "code",
   "execution_count": 1,
   "metadata": {},
   "outputs": [
    {
     "name": "stdout",
     "output_type": "stream",
     "text": [
      "2\n"
     ]
    }
   ],
   "source": [
    "def countRotations(arr, n):\n",
    " \n",
    " \n",
    "    min = arr[0]\n",
    "    for i in range(0, n):\n",
    "     \n",
    "        if (min > arr[i]):\n",
    "         \n",
    "            min = arr[i]\n",
    "            min_index = i\n",
    "         \n",
    "    return min_index;\n",
    " \n",
    " \n",
    "\n",
    "arr = [15, 18, 2, 3, 6, 12]\n",
    "n = len(arr)\n",
    "print(countRotations(arr, n))"
   ]
  },
  {
   "cell_type": "code",
   "execution_count": null,
   "metadata": {},
   "outputs": [],
   "source": []
  }
 ],
 "metadata": {
  "kernelspec": {
   "display_name": "Python 3",
   "language": "python",
   "name": "python3"
  },
  "language_info": {
   "codemirror_mode": {
    "name": "ipython",
    "version": 3
   },
   "file_extension": ".py",
   "mimetype": "text/x-python",
   "name": "python",
   "nbconvert_exporter": "python",
   "pygments_lexer": "ipython3",
   "version": "3.7.6"
  }
 },
 "nbformat": 4,
 "nbformat_minor": 4
}
