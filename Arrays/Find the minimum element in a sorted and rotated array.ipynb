{
 "cells": [
  {
   "cell_type": "code",
   "execution_count": 1,
   "metadata": {},
   "outputs": [
    {
     "name": "stdout",
     "output_type": "stream",
     "text": [
      "The minimum element is 1\n",
      "The minimum element is 1\n",
      "The minimum element is 1\n",
      "The minimum element is 1\n",
      "The minimum element is 1\n",
      "The minimum element is 1\n",
      "The minimum element is 1\n",
      "The minimum element is 1\n",
      "The minimum element is 1\n"
     ]
    }
   ],
   "source": [
    "def findMin(arr, low, high):\n",
    "\n",
    "    if high < low:\n",
    "        return arr[0]\n",
    " \n",
    "  \n",
    "    if high == low:\n",
    "        return arr[low]\n",
    " \n",
    "    mid = int((low + high)/2)\n",
    " \n",
    "   \n",
    "\n",
    "    if mid < high and arr[mid+1] < arr[mid]:\n",
    "        return arr[mid+1]\n",
    " \n",
    "  \n",
    "    if mid > low and arr[mid] < arr[mid - 1]:\n",
    "        return arr[mid]\n",
    " \n",
    "\n",
    "    if arr[high] > arr[mid]:\n",
    "        return findMin(arr, low, mid-1)\n",
    "    return findMin(arr, mid+1, high)\n",
    " \n",
    "\n",
    "arr1 = [5, 6, 1, 2, 3, 4]\n",
    "n1 = len(arr1)\n",
    "print(\"The minimum element is \" + str(findMin(arr1, 0, n1-1)))\n",
    " \n",
    "arr2 = [1, 2, 3, 4]\n",
    "n2 = len(arr2)\n",
    "print(\"The minimum element is \" + str(findMin(arr2, 0, n2-1)))\n",
    " \n",
    "arr3 = [1]\n",
    "n3 = len(arr3)\n",
    "print(\"The minimum element is \" + str(findMin(arr3, 0, n3-1)))\n",
    " \n",
    "arr4 = [1, 2]\n",
    "n4 = len(arr4)\n",
    "print(\"The minimum element is \" + str(findMin(arr4, 0, n4-1)))\n",
    " \n",
    "arr5 = [2, 1]\n",
    "n5 = len(arr5)\n",
    "print(\"The minimum element is \" + str(findMin(arr5, 0, n5-1)))\n",
    " \n",
    "arr6 = [5, 6, 7, 1, 2, 3, 4]\n",
    "n6 = len(arr6)\n",
    "print(\"The minimum element is \" + str(findMin(arr6, 0, n6-1)))\n",
    " \n",
    "arr7 = [1, 2, 3, 4, 5, 6, 7]\n",
    "n7 = len(arr7)\n",
    "print(\"The minimum element is \" + str(findMin(arr7, 0, n7-1)))\n",
    " \n",
    "arr8 = [2, 3, 4, 5, 6, 7, 8, 1]\n",
    "n8 = len(arr8)\n",
    "print(\"The minimum element is \" + str(findMin(arr8, 0, n8-1)))\n",
    " \n",
    "arr9 = [3, 4, 5, 1, 2]\n",
    "n9 = len(arr9)\n",
    "print(\"The minimum element is \" + str(findMin(arr9, 0, n9-1)))"
   ]
  },
  {
   "cell_type": "code",
   "execution_count": null,
   "metadata": {},
   "outputs": [],
   "source": []
  }
 ],
 "metadata": {
  "kernelspec": {
   "display_name": "Python 3",
   "language": "python",
   "name": "python3"
  },
  "language_info": {
   "codemirror_mode": {
    "name": "ipython",
    "version": 3
   },
   "file_extension": ".py",
   "mimetype": "text/x-python",
   "name": "python",
   "nbconvert_exporter": "python",
   "pygments_lexer": "ipython3",
   "version": "3.7.6"
  }
 },
 "nbformat": 4,
 "nbformat_minor": 4
}
