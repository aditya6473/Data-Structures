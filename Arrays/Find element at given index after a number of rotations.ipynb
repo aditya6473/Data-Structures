{
 "cells": [
  {
   "cell_type": "code",
   "execution_count": 1,
   "metadata": {},
   "outputs": [
    {
     "name": "stdout",
     "output_type": "stream",
     "text": [
      "3\n"
     ]
    }
   ],
   "source": [
    "def findElement(arr, ranges, rotations, index) :\n",
    "     \n",
    "    for i in range(rotations - 1, -1, -1 ) :\n",
    "     \n",
    "       \n",
    "        left = ranges[i][0]\n",
    "        right = ranges[i][1]\n",
    " \n",
    "      \n",
    "        if (left <= index and right >= index) :\n",
    "            if (index == left) :\n",
    "                index = right\n",
    "            else :\n",
    "                index = index - 1\n",
    "         \n",
    "   \n",
    "    return arr[index]\n",
    " \n",
    "\n",
    "arr = [ 1, 2, 3, 4, 5 ]\n",
    " \n",
    "\n",
    "rotations = 2\n",
    " \n",
    "\n",
    "ranges = [ [ 0, 2 ], [ 0, 3 ] ]\n",
    " \n",
    "index = 1\n",
    " \n",
    "print(findElement(arr, ranges, rotations, index))"
   ]
  },
  {
   "cell_type": "code",
   "execution_count": null,
   "metadata": {},
   "outputs": [],
   "source": []
  }
 ],
 "metadata": {
  "kernelspec": {
   "display_name": "Python 3",
   "language": "python",
   "name": "python3"
  },
  "language_info": {
   "codemirror_mode": {
    "name": "ipython",
    "version": 3
   },
   "file_extension": ".py",
   "mimetype": "text/x-python",
   "name": "python",
   "nbconvert_exporter": "python",
   "pygments_lexer": "ipython3",
   "version": "3.7.6"
  }
 },
 "nbformat": 4,
 "nbformat_minor": 4
}
