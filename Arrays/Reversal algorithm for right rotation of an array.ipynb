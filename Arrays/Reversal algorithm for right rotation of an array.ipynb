{
 "cells": [
  {
   "cell_type": "code",
   "execution_count": 1,
   "metadata": {},
   "outputs": [
    {
     "name": "stdout",
     "output_type": "stream",
     "text": [
      "8 9 10 1 2 3 4 5 6 7 "
     ]
    }
   ],
   "source": [
    "def reverseArray( arr, start, end):\n",
    "     \n",
    "    while (start < end):\n",
    "         \n",
    "        arr[start], arr[end] = arr[end], arr[start]\n",
    "        start = start + 1\n",
    "        end = end - 1\n",
    "     \n",
    " \n",
    "\n",
    "def rightRotate( arr, d, n):\n",
    "     \n",
    "    reverseArray(arr, 0, n - 1);\n",
    "    reverseArray(arr, 0, d - 1);\n",
    "    reverseArray(arr, d, n - 1);\n",
    " \n",
    " \n",
    "\n",
    "def prArray( arr, size):\n",
    "    for i in range(0, size):\n",
    "        print (arr[i], end = ' ')\n",
    " \n",
    " \n",
    "\n",
    "arr = [1, 2, 3, 4, 5, 6, 7, 8, 9, 10]\n",
    "n = len(arr)\n",
    "k = 3\n",
    "     \n",
    "\n",
    "rightRotate(arr, k, n)\n",
    "prArray(arr, n)\n",
    " "
   ]
  },
  {
   "cell_type": "code",
   "execution_count": null,
   "metadata": {},
   "outputs": [],
   "source": []
  }
 ],
 "metadata": {
  "kernelspec": {
   "display_name": "Python 3",
   "language": "python",
   "name": "python3"
  },
  "language_info": {
   "codemirror_mode": {
    "name": "ipython",
    "version": 3
   },
   "file_extension": ".py",
   "mimetype": "text/x-python",
   "name": "python",
   "nbconvert_exporter": "python",
   "pygments_lexer": "ipython3",
   "version": "3.7.6"
  }
 },
 "nbformat": 4,
 "nbformat_minor": 4
}
