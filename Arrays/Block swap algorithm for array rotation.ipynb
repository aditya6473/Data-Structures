{
 "cells": [
  {
   "cell_type": "code",
   "execution_count": 1,
   "metadata": {},
   "outputs": [
    {
     "name": "stdout",
     "output_type": "stream",
     "text": [
      "3 4 5 6 7 1 2 \n"
     ]
    }
   ],
   "source": [
    "def leftRotate(arr, d, n):\n",
    "    leftRotateRec(arr, 0, d, n);\n",
    " \n",
    "def leftRotateRec(arr, i, d, n):\n",
    "    \n",
    "    if (d == 0 or d == n):\n",
    "        return;\n",
    " \n",
    "    \n",
    "    if (n - d == d):\n",
    "        swap(arr, i, n - d + i, d);\n",
    "        return;\n",
    " \n",
    "    \n",
    "    if (d < n - d):\n",
    "        swap(arr, i, n - d + i, d);\n",
    "        leftRotateRec(arr, i, d, n - d);\n",
    "       \n",
    "    else:\n",
    "        swap(arr, i, d, n - d);\n",
    "         \n",
    "       \n",
    "        leftRotateRec(arr, n - d + i, 2 * d - n, d);\n",
    " \n",
    "\n",
    "def printArray(arr, size):\n",
    "    for i in range(size):\n",
    "        print(arr[i], end = \" \");\n",
    "    print();\n",
    " \n",
    "\n",
    "def swap(arr, fi, si, d):\n",
    "    for i in range(d):\n",
    "        temp = arr[fi + i];\n",
    "        arr[fi + i] = arr[si + i];\n",
    "        arr[si + i] = temp;\n",
    " \n",
    "\n",
    "if __name__ == '__main__':\n",
    "    arr = [1, 2, 3, 4, 5, 6, 7];\n",
    "    leftRotate(arr, 2, 7);\n",
    "    printArray(arr, 7);"
   ]
  },
  {
   "cell_type": "code",
   "execution_count": null,
   "metadata": {},
   "outputs": [],
   "source": []
  }
 ],
 "metadata": {
  "kernelspec": {
   "display_name": "Python 3",
   "language": "python",
   "name": "python3"
  },
  "language_info": {
   "codemirror_mode": {
    "name": "ipython",
    "version": 3
   },
   "file_extension": ".py",
   "mimetype": "text/x-python",
   "name": "python",
   "nbconvert_exporter": "python",
   "pygments_lexer": "ipython3",
   "version": "3.7.6"
  }
 },
 "nbformat": 4,
 "nbformat_minor": 4
}
