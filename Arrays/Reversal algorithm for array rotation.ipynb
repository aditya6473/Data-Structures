{
 "cells": [
  {
   "cell_type": "code",
   "execution_count": 4,
   "metadata": {},
   "outputs": [
    {
     "name": "stdout",
     "output_type": "stream",
     "text": [
      "3\n",
      "4\n",
      "5\n",
      "6\n",
      "7\n",
      "1\n",
      "2\n"
     ]
    }
   ],
   "source": [
    "def reverseArray(arr, start, end):\n",
    "    while (start < end):\n",
    "        temp = arr[start]\n",
    "        arr[start] = arr[end]\n",
    "        arr[end] = temp\n",
    "        start += 1\n",
    "        end = end-1\n",
    "  \n",
    "\n",
    "  \n",
    "  \n",
    "def leftRotate(arr, d):\n",
    "  \n",
    "    if d == 0:\n",
    "        return\n",
    "    n = len(arr)\n",
    "   \n",
    "    d = d % n\n",
    "    reverseArray(arr, 0, d-1)\n",
    "    reverseArray(arr, d, n-1)\n",
    "    reverseArray(arr, 0, n-1)\n",
    "  \n",
    "\n",
    "  \n",
    "  \n",
    "def printArray(arr):\n",
    "    for i in range(0, len(arr)):\n",
    "        print (arr[i])\n",
    "  \n",
    "  \n",
    "\n",
    "arr = [1, 2, 3, 4, 5, 6, 7]\n",
    "n = len(arr)\n",
    "d = 2\n",
    "  \n",
    "leftRotate(arr, d)  \n",
    "printArray(arr)"
   ]
  },
  {
   "cell_type": "code",
   "execution_count": null,
   "metadata": {},
   "outputs": [],
   "source": []
  }
 ],
 "metadata": {
  "kernelspec": {
   "display_name": "Python 3",
   "language": "python",
   "name": "python3"
  },
  "language_info": {
   "codemirror_mode": {
    "name": "ipython",
    "version": 3
   },
   "file_extension": ".py",
   "mimetype": "text/x-python",
   "name": "python",
   "nbconvert_exporter": "python",
   "pygments_lexer": "ipython3",
   "version": "3.7.6"
  }
 },
 "nbformat": 4,
 "nbformat_minor": 4
}
