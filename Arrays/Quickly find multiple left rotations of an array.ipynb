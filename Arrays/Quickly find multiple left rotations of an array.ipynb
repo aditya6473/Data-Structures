{
 "cells": [
  {
   "cell_type": "code",
   "execution_count": 1,
   "metadata": {},
   "outputs": [
    {
     "name": "stdout",
     "output_type": "stream",
     "text": [
      "5 7 9 1 3 \n",
      "7 9 1 3 5 \n",
      "9 1 3 5 7 \n"
     ]
    }
   ],
   "source": [
    "def preprocess(arr, n):\n",
    "    temp = [None] * (2 * n)\n",
    "     \n",
    "   \n",
    "    for i in range(n):\n",
    "        temp[i] = temp[i + n] = arr[i]\n",
    "    return temp\n",
    " \n",
    "\n",
    "def leftRotate(arr, n, k, temp):\n",
    "     \n",
    "    \n",
    "    start = k % n\n",
    "     \n",
    "   \n",
    "    for i in range(start, start + n):\n",
    "        print(temp[i], end = \" \")\n",
    "    print(\"\")\n",
    " \n",
    "\n",
    "arr = [1, 3, 5, 7, 9]\n",
    "n = len(arr)\n",
    "temp = preprocess(arr, n)\n",
    " \n",
    "k = 2\n",
    "leftRotate(arr, n, k, temp)\n",
    "       \n",
    "k = 3\n",
    "leftRotate(arr, n, k, temp)\n",
    "       \n",
    "k = 4\n",
    "leftRotate(arr, n, k, temp)"
   ]
  },
  {
   "cell_type": "code",
   "execution_count": null,
   "metadata": {},
   "outputs": [],
   "source": []
  }
 ],
 "metadata": {
  "kernelspec": {
   "display_name": "Python 3",
   "language": "python",
   "name": "python3"
  },
  "language_info": {
   "codemirror_mode": {
    "name": "ipython",
    "version": 3
   },
   "file_extension": ".py",
   "mimetype": "text/x-python",
   "name": "python",
   "nbconvert_exporter": "python",
   "pygments_lexer": "ipython3",
   "version": "3.7.6"
  }
 },
 "nbformat": 4,
 "nbformat_minor": 4
}
