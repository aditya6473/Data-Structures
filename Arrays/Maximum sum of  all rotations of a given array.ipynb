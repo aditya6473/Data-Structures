{
 "cells": [
  {
   "cell_type": "code",
   "execution_count": 1,
   "metadata": {},
   "outputs": [
    {
     "name": "stdout",
     "output_type": "stream",
     "text": [
      "29\n"
     ]
    }
   ],
   "source": [
    "import sys\n",
    " \n",
    "\n",
    "def maxSum(arr, n):\n",
    " \n",
    "   \n",
    "    res = -sys.maxsize\n",
    " \n",
    "    \n",
    "    for i in range(0, n):\n",
    " \n",
    " \n",
    "      \n",
    "        curr_sum = 0\n",
    "     \n",
    "     \n",
    "        for j in range(0, n):\n",
    "         \n",
    "            index = int((i + j)% n)\n",
    "            curr_sum += j * arr[index]\n",
    "     \n",
    " \n",
    "  \n",
    "        res = max(res, curr_sum)\n",
    "    return res\n",
    " \n",
    "\n",
    "arr = [8, 3, 1, 2]\n",
    "n = len(arr)\n",
    " \n",
    "print(maxSum(arr, n))\n",
    " "
   ]
  },
  {
   "cell_type": "code",
   "execution_count": null,
   "metadata": {},
   "outputs": [],
   "source": []
  }
 ],
 "metadata": {
  "kernelspec": {
   "display_name": "Python 3",
   "language": "python",
   "name": "python3"
  },
  "language_info": {
   "codemirror_mode": {
    "name": "ipython",
    "version": 3
   },
   "file_extension": ".py",
   "mimetype": "text/x-python",
   "name": "python",
   "nbconvert_exporter": "python",
   "pygments_lexer": "ipython3",
   "version": "3.7.6"
  }
 },
 "nbformat": 4,
 "nbformat_minor": 4
}
