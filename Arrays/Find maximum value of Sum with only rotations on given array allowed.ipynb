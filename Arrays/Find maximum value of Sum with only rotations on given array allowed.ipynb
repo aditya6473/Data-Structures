{
 "cells": [
  {
   "cell_type": "code",
   "execution_count": 25,
   "metadata": {},
   "outputs": [
    {
     "name": "stdout",
     "output_type": "stream",
     "text": [
      "Max sum is:  330\n"
     ]
    }
   ],
   "source": [
    "def maxSum(arr):\n",
    " \n",
    "    # stores sum of arr[i]\n",
    "    arrSum = 0   \n",
    " \n",
    "    # stores sum of i*arr[i]\n",
    "    currVal = 0\n",
    "     \n",
    "    n = len(arr)\n",
    " \n",
    "    for i in range(0, n):\n",
    "        arrSum = arrSum + arr[i]\n",
    "        currVal = currVal + (i*arr[i])\n",
    " \n",
    "    # initialize result\n",
    "    maxVal = currVal\n",
    " \n",
    "    # try all rotations one by one and find the maximum\n",
    "    # rotation sum\n",
    "    for j in range(1, n):\n",
    "        currVal = currVal + arrSum-n*arr[n-j]\n",
    "        if currVal > maxVal:\n",
    "            maxVal = currVal\n",
    " \n",
    "    # return result\n",
    "    return maxVal\n",
    " \n",
    "# test maxsum(arr) function\n",
    "arr = [10, 1, 2, 3, 4, 5, 6, 7, 8, 9]\n",
    "print (\"Max sum is: \", maxSum(arr))"
   ]
  },
  {
   "cell_type": "code",
   "execution_count": null,
   "metadata": {},
   "outputs": [],
   "source": []
  },
  {
   "cell_type": "code",
   "execution_count": null,
   "metadata": {},
   "outputs": [],
   "source": []
  }
 ],
 "metadata": {
  "kernelspec": {
   "display_name": "Python 3",
   "language": "python",
   "name": "python3"
  },
  "language_info": {
   "codemirror_mode": {
    "name": "ipython",
    "version": 3
   },
   "file_extension": ".py",
   "mimetype": "text/x-python",
   "name": "python",
   "nbconvert_exporter": "python",
   "pygments_lexer": "ipython3",
   "version": "3.7.6"
  }
 },
 "nbformat": 4,
 "nbformat_minor": 4
}
