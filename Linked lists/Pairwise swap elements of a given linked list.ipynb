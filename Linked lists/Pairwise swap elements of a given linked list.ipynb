{
 "cells": [
  {
   "cell_type": "code",
   "execution_count": 2,
   "metadata": {},
   "outputs": [
    {
     "name": "stdout",
     "output_type": "stream",
     "text": [
      "Linked list before calling pairWiseSwap() \n",
      "1\n",
      "2\n",
      "3\n",
      "4\n",
      "5\n",
      "\n",
      "Linked list after calling pairWiseSwap()\n",
      "2\n",
      "1\n",
      "4\n",
      "3\n",
      "5\n"
     ]
    }
   ],
   "source": [
    "class Node:\n",
    " \n",
    "    \n",
    "    def __init__(self, data):\n",
    "        self.data = data\n",
    "        self.next = None\n",
    " \n",
    " \n",
    "class LinkedList:\n",
    " \n",
    " \n",
    "    def __init__(self):\n",
    "        self.head = None\n",
    " \n",
    "\n",
    "    def pairwiseSwap(self):\n",
    "        temp = self.head\n",
    " \n",
    "       \n",
    "        if temp is None:\n",
    "            return\n",
    " \n",
    "        \n",
    "        while(temp and temp.next):\n",
    " \n",
    "           \n",
    "            if(temp.data != temp.next.data):\n",
    " \n",
    "                \n",
    "                temp.data, temp.next.data = temp.next.data, temp.data\n",
    " \n",
    "            \n",
    "            temp = temp.next.next\n",
    " \n",
    "   \n",
    "    def push(self, new_data):\n",
    "        new_node = Node(new_data)\n",
    "        new_node.next = self.head\n",
    "        self.head = new_node\n",
    " \n",
    "\n",
    "    def printList(self):\n",
    "        temp = self.head\n",
    "        while(temp):\n",
    "            print (temp.data),\n",
    "            temp = temp.next\n",
    " \n",
    " \n",
    "\n",
    "llist = LinkedList()\n",
    "llist.push(5)\n",
    "llist.push(4)\n",
    "llist.push(3)\n",
    "llist.push(2)\n",
    "llist.push(1)\n",
    " \n",
    "print (\"Linked list before calling pairWiseSwap() \")\n",
    "llist.printList()\n",
    " \n",
    "llist.pairwiseSwap()\n",
    " \n",
    "print (\"\\nLinked list after calling pairWiseSwap()\")\n",
    "llist.printList()"
   ]
  },
  {
   "cell_type": "code",
   "execution_count": null,
   "metadata": {},
   "outputs": [],
   "source": []
  }
 ],
 "metadata": {
  "kernelspec": {
   "display_name": "Python 3",
   "language": "python",
   "name": "python3"
  },
  "language_info": {
   "codemirror_mode": {
    "name": "ipython",
    "version": 3
   },
   "file_extension": ".py",
   "mimetype": "text/x-python",
   "name": "python",
   "nbconvert_exporter": "python",
   "pygments_lexer": "ipython3",
   "version": "3.7.6"
  }
 },
 "nbformat": 4,
 "nbformat_minor": 4
}
