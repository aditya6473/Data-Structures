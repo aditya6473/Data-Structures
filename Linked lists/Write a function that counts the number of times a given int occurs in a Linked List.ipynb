{
 "cells": [
  {
   "cell_type": "code",
   "execution_count": 3,
   "metadata": {},
   "outputs": [
    {
     "name": "stdout",
     "output_type": "stream",
     "text": [
      "count of 1 is  3\n"
     ]
    }
   ],
   "source": [
    "class Node:\n",
    " \n",
    "   \n",
    "    def __init__(self, data):\n",
    "        self.data = data\n",
    "        self.next = None\n",
    " \n",
    "class LinkedList:\n",
    " \n",
    "    \n",
    "    def __init__(self):\n",
    "        self.head = None\n",
    " \n",
    "    def count(self, search_for):\n",
    "        current = self.head\n",
    "        count = 0\n",
    "        while(current is not None):\n",
    "            if current.data == search_for:\n",
    "                count += 1\n",
    "            current = current.next\n",
    "        return count\n",
    " \n",
    "    def push(self, new_data):\n",
    "        new_node = Node(new_data)\n",
    "        new_node.next = self.head\n",
    "        self.head = new_node\n",
    " \n",
    "   \n",
    "    def printList(self):\n",
    "        temp = self.head\n",
    "        while(temp):\n",
    "            print(temp.data),\n",
    "            temp = temp.next\n",
    " \n",
    " \n",
    "\n",
    "llist = LinkedList()\n",
    "llist.push(1)\n",
    "llist.push(3)\n",
    "llist.push(1)\n",
    "llist.push(2)\n",
    "llist.push(1)\n",
    " \n",
    "\n",
    "print (\"count of 1 is % d\" %(llist.count(1)))"
   ]
  },
  {
   "cell_type": "code",
   "execution_count": null,
   "metadata": {},
   "outputs": [],
   "source": []
  }
 ],
 "metadata": {
  "kernelspec": {
   "display_name": "Python 3",
   "language": "python",
   "name": "python3"
  },
  "language_info": {
   "codemirror_mode": {
    "name": "ipython",
    "version": 3
   },
   "file_extension": ".py",
   "mimetype": "text/x-python",
   "name": "python",
   "nbconvert_exporter": "python",
   "pygments_lexer": "ipython3",
   "version": "3.7.6"
  }
 },
 "nbformat": 4,
 "nbformat_minor": 4
}
