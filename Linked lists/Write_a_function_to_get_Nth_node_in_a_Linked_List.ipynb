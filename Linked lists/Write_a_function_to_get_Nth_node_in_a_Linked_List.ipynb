{
 "cells": [
  {
   "cell_type": "code",
   "execution_count": 1,
   "metadata": {},
   "outputs": [
    {
     "name": "stdout",
     "output_type": "stream",
     "text": [
      "Element at index 3 is : 4\n"
     ]
    }
   ],
   "source": [
    "class Node:\n",
    "   \n",
    "    def __init__(self, data):\n",
    "        self.data = data \n",
    "        self.next = None  \n",
    " \n",
    " \n",
    "\n",
    "class LinkedList:\n",
    " \n",
    "    \n",
    "    def __init__(self):\n",
    "        self.head = None\n",
    " \n",
    "   \n",
    " \n",
    "    def push(self, new_data):\n",
    " \n",
    "        \n",
    "        new_node = Node(new_data)\n",
    " \n",
    "        new_node.next = self.head\n",
    " \n",
    "       \n",
    "        self.head = new_node\n",
    " \n",
    "   \n",
    "    def getNth(self, index):\n",
    "        current = self.head  \n",
    "        count = 0 \n",
    " \n",
    "       \n",
    "        while (current):\n",
    "            if (count == index):\n",
    "                return current.data\n",
    "            count += 1\n",
    "            current = current.next\n",
    " \n",
    "       \n",
    "        assert(false)\n",
    "        return 0\n",
    " \n",
    " \n",
    "\n",
    "if __name__ == '__main__':\n",
    " \n",
    "    llist = LinkedList()\n",
    " \n",
    "  \n",
    "    llist.push(1)\n",
    "    llist.push(4)\n",
    "    llist.push(1)\n",
    "    llist.push(12)\n",
    "    llist.push(1)\n",
    " \n",
    "    n = 3\n",
    "    print(\"Element at index 3 is :\", llist.getNth(n))"
   ]
  },
  {
   "cell_type": "code",
   "execution_count": null,
   "metadata": {},
   "outputs": [],
   "source": []
  }
 ],
 "metadata": {
  "kernelspec": {
   "display_name": "Python 3",
   "language": "python",
   "name": "python3"
  },
  "language_info": {
   "codemirror_mode": {
    "name": "ipython",
    "version": 3
   },
   "file_extension": ".py",
   "mimetype": "text/x-python",
   "name": "python",
   "nbconvert_exporter": "python",
   "pygments_lexer": "ipython3",
   "version": "3.7.6"
  }
 },
 "nbformat": 4,
 "nbformat_minor": 4
}
