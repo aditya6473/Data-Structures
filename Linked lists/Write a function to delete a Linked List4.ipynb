{
 "cells": [
  {
   "cell_type": "code",
   "execution_count": 1,
   "metadata": {},
   "outputs": [
    {
     "name": "stdout",
     "output_type": "stream",
     "text": [
      "Deleting linked list\n",
      "Linked list deleted\n"
     ]
    }
   ],
   "source": [
    "class Node:\n",
    " \n",
    "   \n",
    "    def __init__(self, data):\n",
    "        self.data = data \n",
    "        self.next = None  \n",
    " \n",
    " \n",
    "\n",
    "class LinkedList:\n",
    " \n",
    "   \n",
    "    def __init__(self):\n",
    "        self.head = None\n",
    " \n",
    "    def deleteList(self):\n",
    " \n",
    "      \n",
    "        current = self.head\n",
    "        while current:\n",
    "            prev = current.next  \n",
    " \n",
    "           \n",
    "            del current.data\n",
    " \n",
    "            \n",
    "            current = prev\n",
    " \n",
    "        \n",
    " \n",
    "  \n",
    "    def push(self, new_data):\n",
    " \n",
    "       \n",
    "        new_node = Node(new_data)\n",
    " \n",
    "     \n",
    "        new_node.next = self.head\n",
    " \n",
    "       \n",
    "        self.head = new_node\n",
    " \n",
    " \n",
    "\n",
    "if __name__ == '__main__':\n",
    " \n",
    "    llist = LinkedList()\n",
    "    llist.push(1)\n",
    "    llist.push(4)\n",
    "    llist.push(1)\n",
    "    llist.push(12)\n",
    "    llist.push(1)\n",
    " \n",
    "    print(\"Deleting linked list\")\n",
    "    llist.deleteList()\n",
    " \n",
    "    print(\"Linked list deleted\")"
   ]
  },
  {
   "cell_type": "code",
   "execution_count": null,
   "metadata": {},
   "outputs": [],
   "source": []
  }
 ],
 "metadata": {
  "kernelspec": {
   "display_name": "Python 3",
   "language": "python",
   "name": "python3"
  },
  "language_info": {
   "codemirror_mode": {
    "name": "ipython",
    "version": 3
   },
   "file_extension": ".py",
   "mimetype": "text/x-python",
   "name": "python",
   "nbconvert_exporter": "python",
   "pygments_lexer": "ipython3",
   "version": "3.7.6"
  }
 },
 "nbformat": 4,
 "nbformat_minor": 4
}
