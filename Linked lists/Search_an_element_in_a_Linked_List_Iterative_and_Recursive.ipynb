{
 "cells": [
  {
   "cell_type": "code",
   "execution_count": 1,
   "metadata": {},
   "outputs": [
    {
     "name": "stdout",
     "output_type": "stream",
     "text": [
      "Yes\n"
     ]
    }
   ],
   "source": [
    "class Node:\n",
    "     \n",
    "    \n",
    "    def __init__(self, data):\n",
    "        self.data = data \n",
    "        self.next = None \n",
    " \n",
    "\n",
    "class LinkedList:\n",
    "    def __init__(self):\n",
    "        self.head = None \n",
    " \n",
    "\n",
    "    def push(self, new_data):\n",
    "     \n",
    "        \n",
    "        new_node = Node(new_data)\n",
    " \n",
    "       \n",
    "        new_node.next = self.head\n",
    " \n",
    "       \n",
    "        self.head = new_node\n",
    " \n",
    "  \n",
    "    def search(self, x):\n",
    " \n",
    "      \n",
    "        current = self.head\n",
    " \n",
    "       \n",
    "        while current != None:\n",
    "            if current.data == x:\n",
    "                return True \n",
    "             \n",
    "            current = current.next\n",
    "         \n",
    "        return False \n",
    " \n",
    " \n",
    "\n",
    "if __name__ == '__main__':\n",
    " \n",
    "   \n",
    "    llist = LinkedList()\n",
    " \n",
    "    ''' Use push() to construct below list\n",
    "        14->21->11->30->10 '''\n",
    "    llist.push(10);\n",
    "    llist.push(30);\n",
    "    llist.push(11);\n",
    "    llist.push(21);\n",
    "    llist.push(14);\n",
    " \n",
    "    if llist.search(21):\n",
    "        print(\"Yes\")\n",
    "    else:\n",
    "        print(\"No\")"
   ]
  },
  {
   "cell_type": "code",
   "execution_count": null,
   "metadata": {},
   "outputs": [],
   "source": []
  }
 ],
 "metadata": {
  "kernelspec": {
   "display_name": "Python 3",
   "language": "python",
   "name": "python3"
  },
  "language_info": {
   "codemirror_mode": {
    "name": "ipython",
    "version": 3
   },
   "file_extension": ".py",
   "mimetype": "text/x-python",
   "name": "python",
   "nbconvert_exporter": "python",
   "pygments_lexer": "ipython3",
   "version": "3.7.6"
  }
 },
 "nbformat": 4,
 "nbformat_minor": 4
}
