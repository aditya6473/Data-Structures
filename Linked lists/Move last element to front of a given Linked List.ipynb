{
 "cells": [
  {
   "cell_type": "code",
   "execution_count": 1,
   "metadata": {},
   "outputs": [
    {
     "name": "stdout",
     "output_type": "stream",
     "text": [
      "Linked List before moving last to front \n",
      "1, 2, 3, 4, 5, \n",
      "Linked List after moving last to front \n",
      "5, 1, 2, 3, 4, \n"
     ]
    }
   ],
   "source": [
    "class Node:\n",
    "    def __init__(self, data):\n",
    "        self.data = data\n",
    "        self.next = None\n",
    "  \n",
    "class LinkedList:\n",
    "    def __init__(self):\n",
    "        self.head = None\n",
    "  \n",
    "   \n",
    "    def push(self, data):\n",
    "        new_node = Node(data)\n",
    "        new_node.next = self.head\n",
    "        self.head = new_node\n",
    "          \n",
    "   \n",
    "    def printList(self):\n",
    "        tmp = self.head\n",
    "        while tmp is not None:\n",
    "            print(tmp.data, end=\", \")\n",
    "            tmp = tmp.next\n",
    "        print()\n",
    "  \n",
    "   \n",
    "    def moveToFront(self):\n",
    "        tmp = self.head\n",
    "        sec_last = None \n",
    "                       \n",
    "  \n",
    "   \n",
    "        if not tmp or not tmp.next: \n",
    "            return\n",
    "  \n",
    "      \n",
    "        while tmp and tmp.next :\n",
    "            sec_last = tmp\n",
    "            tmp = tmp.next\n",
    "  \n",
    "   \n",
    "        sec_last.next = None\n",
    "  \n",
    "  \n",
    "        tmp.next = self.head\n",
    "        self.head = tmp\n",
    "  \n",
    "\n",
    "if __name__ == '__main__':\n",
    "    llist = LinkedList()\n",
    "      \n",
    "   \n",
    "    llist.push(5)\n",
    "    llist.push(4)\n",
    "    llist.push(3)\n",
    "    llist.push(2)\n",
    "    llist.push(1)\n",
    "    print (\"Linked List before moving last to front \")\n",
    "    llist.printList()\n",
    "    llist.moveToFront()\n",
    "    print (\"Linked List after moving last to front \")\n",
    "    llist.printList()"
   ]
  },
  {
   "cell_type": "code",
   "execution_count": null,
   "metadata": {},
   "outputs": [],
   "source": []
  }
 ],
 "metadata": {
  "kernelspec": {
   "display_name": "Python 3",
   "language": "python",
   "name": "python3"
  },
  "language_info": {
   "codemirror_mode": {
    "name": "ipython",
    "version": 3
   },
   "file_extension": ".py",
   "mimetype": "text/x-python",
   "name": "python",
   "nbconvert_exporter": "python",
   "pygments_lexer": "ipython3",
   "version": "3.7.6"
  }
 },
 "nbformat": 4,
 "nbformat_minor": 4
}
