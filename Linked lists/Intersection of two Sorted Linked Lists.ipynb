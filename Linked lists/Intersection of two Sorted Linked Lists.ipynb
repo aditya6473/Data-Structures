{
 "cells": [
  {
   "cell_type": "code",
   "execution_count": 1,
   "metadata": {},
   "outputs": [
    {
     "name": "stdout",
     "output_type": "stream",
     "text": [
      "Linked list containing common items of a & b \n",
      "2 4 6 "
     ]
    }
   ],
   "source": [
    "class Node:\n",
    "    def __init__(self):   \n",
    "        self.data = 0\n",
    "        self.next = None\n",
    "      \n",
    "\n",
    "def sortedIntersect(a, b):\n",
    "    dummy = Node()\n",
    "    tail = dummy;\n",
    "    dummy.next = None;\n",
    "   \n",
    "  \n",
    "    while (a != None and b != None):\n",
    "        if (a.data == b.data):\n",
    "            tail.next = push((tail.next), a.data);\n",
    "            tail = tail.next;\n",
    "            a = a.next;\n",
    "            b = b.next;\n",
    "          \n",
    "\n",
    "        elif(a.data < b.data):\n",
    "            a = a.next;\n",
    "        else:\n",
    "            b = b.next;    \n",
    "    return (dummy.next);\n",
    "  \n",
    "\n",
    "def push(head_ref, new_data):\n",
    "  \n",
    "\n",
    "    new_node = Node()\n",
    "   \n",
    " \n",
    "    new_node.data = new_data;\n",
    "   \n",
    " \n",
    "    new_node.next = (head_ref);\n",
    "   \n",
    "\n",
    "    (head_ref) = new_node;    \n",
    "    return head_ref\n",
    "  \n",
    "\n",
    "def printList(node):\n",
    "    while (node != None):\n",
    "        print(node.data, end=' ')\n",
    "        node = node.next;\n",
    "\n",
    "if __name__=='__main__':\n",
    "      \n",
    "    \n",
    "    a = None;\n",
    "    b = None;\n",
    "    intersect = None;\n",
    "   \n",
    "   \n",
    "    a = push(a, 6);\n",
    "    a = push(a, 5);\n",
    "    a = push(a, 4);\n",
    "    a = push(a, 3);\n",
    "    a = push(a, 2);\n",
    "    a = push(a, 1);\n",
    "   \n",
    "   \n",
    "    b = push(b, 8);\n",
    "    b = push(b, 6);\n",
    "    b = push(b, 4);\n",
    "    b = push(b, 2);\n",
    "   \n",
    "    \n",
    "    intersect = sortedIntersect(a, b);\n",
    "   \n",
    "    print(\"Linked list containing common items of a & b \");\n",
    "    printList(intersect);"
   ]
  },
  {
   "cell_type": "code",
   "execution_count": null,
   "metadata": {},
   "outputs": [],
   "source": []
  }
 ],
 "metadata": {
  "kernelspec": {
   "display_name": "Python 3",
   "language": "python",
   "name": "python3"
  },
  "language_info": {
   "codemirror_mode": {
    "name": "ipython",
    "version": 3
   },
   "file_extension": ".py",
   "mimetype": "text/x-python",
   "name": "python",
   "nbconvert_exporter": "python",
   "pygments_lexer": "ipython3",
   "version": "3.7.6"
  }
 },
 "nbformat": 4,
 "nbformat_minor": 4
}
