{
 "cells": [
  {
   "cell_type": "code",
   "execution_count": 1,
   "metadata": {},
   "outputs": [
    {
     "name": "stdout",
     "output_type": "stream",
     "text": [
      "isPalindrome: True\n"
     ]
    }
   ],
   "source": [
    "class Node:\n",
    "    def __init__(self,data):\n",
    "         \n",
    "        self.data = data\n",
    "        self.ptr = None\n",
    "         \n",
    "\n",
    "def ispalindrome(head):\n",
    "     \n",
    "    \n",
    "    slow = head\n",
    "\n",
    "    stack = []\n",
    "     \n",
    "    ispalin = True\n",
    " \n",
    "    \n",
    "    while slow != None:\n",
    "        stack.append(slow.data)\n",
    "         \n",
    "      \n",
    "        slow = slow.ptr\n",
    " \n",
    " \n",
    "    while head != None:\n",
    " \n",
    "        i = stack.pop()\n",
    "         \n",
    "      \n",
    "        if head.data == i:\n",
    "            ispalin = True\n",
    "        else:\n",
    "            ispalin = False\n",
    "            break\n",
    " \n",
    "       \n",
    "        head = head.ptr\n",
    "         \n",
    "    return ispalin\n",
    " \n",
    "\n",
    " \n",
    "\n",
    "one = Node(1)\n",
    "two = Node(2)\n",
    "three = Node(3)\n",
    "four = Node(4)\n",
    "five = Node(3)\n",
    "six = Node(2)\n",
    "seven = Node(1)\n",
    " \n",
    "\n",
    "one.ptr = two\n",
    "two.ptr = three\n",
    "three.ptr = four\n",
    "four.ptr = five\n",
    "five.ptr = six\n",
    "six.ptr = seven\n",
    "seven.ptr = None\n",
    " \n",
    "\n",
    "result = ispalindrome(one)\n",
    " \n",
    "print(\"isPalindrome:\", result)"
   ]
  },
  {
   "cell_type": "code",
   "execution_count": null,
   "metadata": {},
   "outputs": [],
   "source": []
  }
 ],
 "metadata": {
  "kernelspec": {
   "display_name": "Python 3",
   "language": "python",
   "name": "python3"
  },
  "language_info": {
   "codemirror_mode": {
    "name": "ipython",
    "version": 3
   },
   "file_extension": ".py",
   "mimetype": "text/x-python",
   "name": "python",
   "nbconvert_exporter": "python",
   "pygments_lexer": "ipython3",
   "version": "3.7.6"
  }
 },
 "nbformat": 4,
 "nbformat_minor": 4
}
